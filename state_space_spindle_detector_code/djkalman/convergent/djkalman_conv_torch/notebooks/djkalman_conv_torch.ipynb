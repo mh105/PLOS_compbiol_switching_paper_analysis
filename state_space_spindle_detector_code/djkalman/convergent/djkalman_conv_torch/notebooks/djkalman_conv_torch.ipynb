{
 "cells": [
  {
   "cell_type": "code",
   "execution_count": 1,
   "metadata": {
    "collapsed": true,
    "pycharm": {
     "name": "#%%\n"
    }
   },
   "outputs": [],
   "source": [
    "# Imports\n",
    "import time\n",
    "import torch\n",
    "import scipy.io\n",
    "from convergent.djkalman_conv_torch.src import base_directory\n",
    "\n",
    "# Load input data and results for implementation validation\n",
    "data = scipy.io.loadmat(base_directory + '/runtime_testing/runtime_inputs.mat')\n",
    "# results = scipy.io.loadmat(base_directory + '/runtime_testing/runtime_results.mat')\n",
    "\n",
    "F = torch.as_tensor(data[\"F\"], dtype=torch.float32).cuda()\n",
    "Q = torch.as_tensor(data[\"Q\"], dtype=torch.float32).cuda()\n",
    "mu0 = torch.as_tensor(data[\"mu0\"], dtype=torch.float32).cuda()\n",
    "Q0 = torch.as_tensor(data[\"Q0\"], dtype=torch.float32).cuda()\n",
    "G = torch.as_tensor(data[\"G\"], dtype=torch.float32).cuda()\n",
    "R = torch.as_tensor(data[\"R\"], dtype=torch.float32).cuda()\n",
    "y = torch.as_tensor(data[\"y\"], dtype=torch.float32).cuda()\n"
   ]
  },
  {
   "cell_type": "markdown",
   "source": [],
   "metadata": {
    "collapsed": false
   }
  },
  {
   "cell_type": "code",
   "execution_count": 2,
   "metadata": {
    "pycharm": {
     "name": "#%%\n"
    }
   },
   "outputs": [
    {
     "name": "stdout",
     "output_type": "stream",
     "text": [
      "Time elapsed: 3.51898s\n"
     ]
    }
   ],
   "source": [
    "from convergent.djkalman_conv_torch.src.djkalman_conv_torch import djkalman_conv_torch\n",
    "\n",
    "start_time = time.time()\n",
    "x_t_n, P_t_n, P_t_tmin1_n, logL, K_t, x_t_tmin1, P_t_tmin1 = djkalman_conv_torch(F, Q, mu0, Q0, G, R, y)\n",
    "stop_time = time.time()\n",
    "\n",
    "scipy.io.matlab.savemat(base_directory + '/runtime_testing/torch_results.mat',\n",
    "                        {\"x_t_n\": x_t_n.cpu().numpy(), \"P_t_n\": P_t_n.cpu().numpy(), \"P_t_tmin1_n\": P_t_tmin1_n.cpu().numpy(), \"logL\": logL.cpu().numpy(),\n",
    "                         \"K_t\": K_t.cpu().numpy(), \"x_t_tmin1\": x_t_tmin1.cpu().numpy(), \"P_t_tmin1\": P_t_tmin1.cpu().numpy()})\n",
    "\n",
    "print(\"Time elapsed: %.5fs\" % (stop_time - start_time))"
   ]
  }
 ],
 "metadata": {
  "kernelspec": {
   "display_name": "Python 3",
   "language": "python",
   "name": "python3"
  },
  "language_info": {
   "codemirror_mode": {
    "name": "ipython",
    "version": 3
   },
   "file_extension": ".py",
   "mimetype": "text/x-python",
   "name": "python",
   "nbconvert_exporter": "python",
   "pygments_lexer": "ipython3",
   "version": "3.6.8"
  }
 },
 "nbformat": 4,
 "nbformat_minor": 1
}